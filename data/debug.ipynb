{
 "cells": [
  {
   "cell_type": "code",
   "outputs": [],
   "source": [
    "import pandas as pd \n",
    "from dotenv import load_dotenv\n",
    "import os\n",
    "from polygon import RESTClient\n",
    "\n",
    "load_dotenv()\n",
    "API_KEY = os.getenv('POLYGON_API_KEY')\n",
    "client = RESTClient(API_KEY)\n",
    "\n",
    "S3_BUCKET = \"archived-stock-data\"\n",
    "TICKERS_PARQUET_KEY = \"tickers_metadata.parquet\"\n",
    "DETAILS_PARQUET_KEY = \"tickers_details.parquet\"\n",
    "OHLCV_FOLDER = \"historical_ohlcv/\"  # partitioned by ticker\n",
    "import tqdm\n",
    "from datetime import datetime, timedelta\n",
    "\n"
   ],
   "metadata": {
    "collapsed": false,
    "ExecuteTime": {
     "end_time": "2025-03-23T08:19:49.169204Z",
     "start_time": "2025-03-23T08:19:49.033463Z"
    }
   },
   "id": "8916b57ce816f5a2",
   "execution_count": 2
  },
  {
   "cell_type": "code",
   "outputs": [
    {
     "data": {
      "text/plain": "         open      high     low   close   volume      vwap  \\\n0    412.7000  414.1200  412.16  413.40  38821.0  413.4662   \n1    413.3300  414.3700  413.07  413.07  25004.0  413.5922   \n2    413.2300  413.5500  413.12  413.12  10589.0  413.3421   \n3    413.1000  413.1500  412.68  413.10  16226.0  412.9562   \n4    412.9900  413.0400  412.62  412.64   6569.0  412.8553   \n..        ...       ...     ...     ...      ...       ...   \n945  396.2475  396.2475  396.15  396.15   2387.0  396.2001   \n946  396.1503  396.1900  396.12  396.18   4929.0  396.1572   \n947  396.1500  396.1500  396.10  396.10   2689.0  396.1176   \n948  396.1000  396.1000  396.01  396.08   6985.0  396.0595   \n949  396.0785  396.1378  395.98  396.04  17372.0  396.0308   \n\n              timestamp  transactions   otc ticker  year month  \n0   2025-01-14 09:00:00          1291  None   TSLA  2025     1  \n1   2025-01-14 09:01:00           967  None   TSLA  2025     1  \n2   2025-01-14 09:02:00           521  None   TSLA  2025     1  \n3   2025-01-14 09:03:00           540  None   TSLA  2025     1  \n4   2025-01-14 09:04:00           406  None   TSLA  2025     1  \n..                  ...           ...   ...    ...   ...   ...  \n945 2025-01-15 00:55:00            76  None   TSLA  2025     1  \n946 2025-01-15 00:56:00           156  None   TSLA  2025     1  \n947 2025-01-15 00:57:00            98  None   TSLA  2025     1  \n948 2025-01-15 00:58:00           105  None   TSLA  2025     1  \n949 2025-01-15 00:59:00           266  None   TSLA  2025     1  \n\n[950 rows x 12 columns]",
      "text/html": "<div>\n<style scoped>\n    .dataframe tbody tr th:only-of-type {\n        vertical-align: middle;\n    }\n\n    .dataframe tbody tr th {\n        vertical-align: top;\n    }\n\n    .dataframe thead th {\n        text-align: right;\n    }\n</style>\n<table border=\"1\" class=\"dataframe\">\n  <thead>\n    <tr style=\"text-align: right;\">\n      <th></th>\n      <th>open</th>\n      <th>high</th>\n      <th>low</th>\n      <th>close</th>\n      <th>volume</th>\n      <th>vwap</th>\n      <th>timestamp</th>\n      <th>transactions</th>\n      <th>otc</th>\n      <th>ticker</th>\n      <th>year</th>\n      <th>month</th>\n    </tr>\n  </thead>\n  <tbody>\n    <tr>\n      <th>0</th>\n      <td>412.7000</td>\n      <td>414.1200</td>\n      <td>412.16</td>\n      <td>413.40</td>\n      <td>38821.0</td>\n      <td>413.4662</td>\n      <td>2025-01-14 09:00:00</td>\n      <td>1291</td>\n      <td>None</td>\n      <td>TSLA</td>\n      <td>2025</td>\n      <td>1</td>\n    </tr>\n    <tr>\n      <th>1</th>\n      <td>413.3300</td>\n      <td>414.3700</td>\n      <td>413.07</td>\n      <td>413.07</td>\n      <td>25004.0</td>\n      <td>413.5922</td>\n      <td>2025-01-14 09:01:00</td>\n      <td>967</td>\n      <td>None</td>\n      <td>TSLA</td>\n      <td>2025</td>\n      <td>1</td>\n    </tr>\n    <tr>\n      <th>2</th>\n      <td>413.2300</td>\n      <td>413.5500</td>\n      <td>413.12</td>\n      <td>413.12</td>\n      <td>10589.0</td>\n      <td>413.3421</td>\n      <td>2025-01-14 09:02:00</td>\n      <td>521</td>\n      <td>None</td>\n      <td>TSLA</td>\n      <td>2025</td>\n      <td>1</td>\n    </tr>\n    <tr>\n      <th>3</th>\n      <td>413.1000</td>\n      <td>413.1500</td>\n      <td>412.68</td>\n      <td>413.10</td>\n      <td>16226.0</td>\n      <td>412.9562</td>\n      <td>2025-01-14 09:03:00</td>\n      <td>540</td>\n      <td>None</td>\n      <td>TSLA</td>\n      <td>2025</td>\n      <td>1</td>\n    </tr>\n    <tr>\n      <th>4</th>\n      <td>412.9900</td>\n      <td>413.0400</td>\n      <td>412.62</td>\n      <td>412.64</td>\n      <td>6569.0</td>\n      <td>412.8553</td>\n      <td>2025-01-14 09:04:00</td>\n      <td>406</td>\n      <td>None</td>\n      <td>TSLA</td>\n      <td>2025</td>\n      <td>1</td>\n    </tr>\n    <tr>\n      <th>...</th>\n      <td>...</td>\n      <td>...</td>\n      <td>...</td>\n      <td>...</td>\n      <td>...</td>\n      <td>...</td>\n      <td>...</td>\n      <td>...</td>\n      <td>...</td>\n      <td>...</td>\n      <td>...</td>\n      <td>...</td>\n    </tr>\n    <tr>\n      <th>945</th>\n      <td>396.2475</td>\n      <td>396.2475</td>\n      <td>396.15</td>\n      <td>396.15</td>\n      <td>2387.0</td>\n      <td>396.2001</td>\n      <td>2025-01-15 00:55:00</td>\n      <td>76</td>\n      <td>None</td>\n      <td>TSLA</td>\n      <td>2025</td>\n      <td>1</td>\n    </tr>\n    <tr>\n      <th>946</th>\n      <td>396.1503</td>\n      <td>396.1900</td>\n      <td>396.12</td>\n      <td>396.18</td>\n      <td>4929.0</td>\n      <td>396.1572</td>\n      <td>2025-01-15 00:56:00</td>\n      <td>156</td>\n      <td>None</td>\n      <td>TSLA</td>\n      <td>2025</td>\n      <td>1</td>\n    </tr>\n    <tr>\n      <th>947</th>\n      <td>396.1500</td>\n      <td>396.1500</td>\n      <td>396.10</td>\n      <td>396.10</td>\n      <td>2689.0</td>\n      <td>396.1176</td>\n      <td>2025-01-15 00:57:00</td>\n      <td>98</td>\n      <td>None</td>\n      <td>TSLA</td>\n      <td>2025</td>\n      <td>1</td>\n    </tr>\n    <tr>\n      <th>948</th>\n      <td>396.1000</td>\n      <td>396.1000</td>\n      <td>396.01</td>\n      <td>396.08</td>\n      <td>6985.0</td>\n      <td>396.0595</td>\n      <td>2025-01-15 00:58:00</td>\n      <td>105</td>\n      <td>None</td>\n      <td>TSLA</td>\n      <td>2025</td>\n      <td>1</td>\n    </tr>\n    <tr>\n      <th>949</th>\n      <td>396.0785</td>\n      <td>396.1378</td>\n      <td>395.98</td>\n      <td>396.04</td>\n      <td>17372.0</td>\n      <td>396.0308</td>\n      <td>2025-01-15 00:59:00</td>\n      <td>266</td>\n      <td>None</td>\n      <td>TSLA</td>\n      <td>2025</td>\n      <td>1</td>\n    </tr>\n  </tbody>\n</table>\n<p>950 rows × 12 columns</p>\n</div>"
     },
     "execution_count": 1,
     "metadata": {},
     "output_type": "execute_result"
    }
   ],
   "source": [
    "import pandas as pd \n",
    "df = pd.read_parquet('s3://archived-stock-data/historical_ohlcv/ticker=TSLA/year=2025/month=01/day=14')\n",
    "df "
   ],
   "metadata": {
    "collapsed": false,
    "ExecuteTime": {
     "end_time": "2025-03-23T08:18:47.668241Z",
     "start_time": "2025-03-23T08:18:46.818532Z"
    }
   },
   "id": "efb8e3a342b0f19f",
   "execution_count": 1
  },
  {
   "cell_type": "code",
   "outputs": [],
   "source": [],
   "metadata": {
    "collapsed": false,
    "ExecuteTime": {
     "end_time": "2025-03-23T08:20:28.087474Z",
     "start_time": "2025-03-23T08:20:28.085160Z"
    }
   },
   "id": "cb5b4eadaf489c3a",
   "execution_count": 2
  }
 ],
 "metadata": {
  "kernelspec": {
   "display_name": "Python 3",
   "language": "python",
   "name": "python3"
  },
  "language_info": {
   "codemirror_mode": {
    "name": "ipython",
    "version": 2
   },
   "file_extension": ".py",
   "mimetype": "text/x-python",
   "name": "python",
   "nbconvert_exporter": "python",
   "pygments_lexer": "ipython2",
   "version": "2.7.6"
  }
 },
 "nbformat": 4,
 "nbformat_minor": 5
}
