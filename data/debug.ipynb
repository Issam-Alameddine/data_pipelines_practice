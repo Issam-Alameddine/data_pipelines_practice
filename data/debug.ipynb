{
 "cells": [
  {
   "cell_type": "code",
   "outputs": [],
   "source": [
    "import pandas as pd \n",
    "from dotenv import load_dotenv\n",
    "import os\n",
    "from polygon import RESTClient\n",
    "\n",
    "load_dotenv()\n",
    "API_KEY = os.getenv('POLYGON_API_KEY')\n",
    "client = RESTClient(API_KEY)\n",
    "\n",
    "S3_BUCKET = \"archived-stock-data\"\n",
    "TICKERS_PARQUET_KEY = \"tickers_metadata.parquet\"\n",
    "DETAILS_PARQUET_KEY = \"tickers_details.parquet\"\n",
    "OHLCV_FOLDER = \"historical_ohlcv/\"  # partitioned by ticker\n",
    "import tqdm\n",
    "from datetime import datetime, timedelta\n",
    "\n"
   ],
   "metadata": {
    "collapsed": false,
    "ExecuteTime": {
     "end_time": "2025-03-23T10:04:34.503306Z",
     "start_time": "2025-03-23T10:04:34.494453Z"
    }
   },
   "id": "8916b57ce816f5a2",
   "execution_count": 4
  },
  {
   "cell_type": "code",
   "outputs": [
    {
     "data": {
      "text/plain": "         open      high     low   close   volume      vwap  \\\n0    412.7000  414.1200  412.16  413.40  38821.0  413.4662   \n1    413.3300  414.3700  413.07  413.07  25004.0  413.5922   \n2    413.2300  413.5500  413.12  413.12  10589.0  413.3421   \n3    413.1000  413.1500  412.68  413.10  16226.0  412.9562   \n4    412.9900  413.0400  412.62  412.64   6569.0  412.8553   \n..        ...       ...     ...     ...      ...       ...   \n945  396.2475  396.2475  396.15  396.15   2387.0  396.2001   \n946  396.1503  396.1900  396.12  396.18   4929.0  396.1572   \n947  396.1500  396.1500  396.10  396.10   2689.0  396.1176   \n948  396.1000  396.1000  396.01  396.08   6985.0  396.0595   \n949  396.0785  396.1378  395.98  396.04  17372.0  396.0308   \n\n              timestamp  transactions   otc ticker  year month  \n0   2025-01-14 09:00:00          1291  None   TSLA  2025     1  \n1   2025-01-14 09:01:00           967  None   TSLA  2025     1  \n2   2025-01-14 09:02:00           521  None   TSLA  2025     1  \n3   2025-01-14 09:03:00           540  None   TSLA  2025     1  \n4   2025-01-14 09:04:00           406  None   TSLA  2025     1  \n..                  ...           ...   ...    ...   ...   ...  \n945 2025-01-15 00:55:00            76  None   TSLA  2025     1  \n946 2025-01-15 00:56:00           156  None   TSLA  2025     1  \n947 2025-01-15 00:57:00            98  None   TSLA  2025     1  \n948 2025-01-15 00:58:00           105  None   TSLA  2025     1  \n949 2025-01-15 00:59:00           266  None   TSLA  2025     1  \n\n[950 rows x 12 columns]",
      "text/html": "<div>\n<style scoped>\n    .dataframe tbody tr th:only-of-type {\n        vertical-align: middle;\n    }\n\n    .dataframe tbody tr th {\n        vertical-align: top;\n    }\n\n    .dataframe thead th {\n        text-align: right;\n    }\n</style>\n<table border=\"1\" class=\"dataframe\">\n  <thead>\n    <tr style=\"text-align: right;\">\n      <th></th>\n      <th>open</th>\n      <th>high</th>\n      <th>low</th>\n      <th>close</th>\n      <th>volume</th>\n      <th>vwap</th>\n      <th>timestamp</th>\n      <th>transactions</th>\n      <th>otc</th>\n      <th>ticker</th>\n      <th>year</th>\n      <th>month</th>\n    </tr>\n  </thead>\n  <tbody>\n    <tr>\n      <th>0</th>\n      <td>412.7000</td>\n      <td>414.1200</td>\n      <td>412.16</td>\n      <td>413.40</td>\n      <td>38821.0</td>\n      <td>413.4662</td>\n      <td>2025-01-14 09:00:00</td>\n      <td>1291</td>\n      <td>None</td>\n      <td>TSLA</td>\n      <td>2025</td>\n      <td>1</td>\n    </tr>\n    <tr>\n      <th>1</th>\n      <td>413.3300</td>\n      <td>414.3700</td>\n      <td>413.07</td>\n      <td>413.07</td>\n      <td>25004.0</td>\n      <td>413.5922</td>\n      <td>2025-01-14 09:01:00</td>\n      <td>967</td>\n      <td>None</td>\n      <td>TSLA</td>\n      <td>2025</td>\n      <td>1</td>\n    </tr>\n    <tr>\n      <th>2</th>\n      <td>413.2300</td>\n      <td>413.5500</td>\n      <td>413.12</td>\n      <td>413.12</td>\n      <td>10589.0</td>\n      <td>413.3421</td>\n      <td>2025-01-14 09:02:00</td>\n      <td>521</td>\n      <td>None</td>\n      <td>TSLA</td>\n      <td>2025</td>\n      <td>1</td>\n    </tr>\n    <tr>\n      <th>3</th>\n      <td>413.1000</td>\n      <td>413.1500</td>\n      <td>412.68</td>\n      <td>413.10</td>\n      <td>16226.0</td>\n      <td>412.9562</td>\n      <td>2025-01-14 09:03:00</td>\n      <td>540</td>\n      <td>None</td>\n      <td>TSLA</td>\n      <td>2025</td>\n      <td>1</td>\n    </tr>\n    <tr>\n      <th>4</th>\n      <td>412.9900</td>\n      <td>413.0400</td>\n      <td>412.62</td>\n      <td>412.64</td>\n      <td>6569.0</td>\n      <td>412.8553</td>\n      <td>2025-01-14 09:04:00</td>\n      <td>406</td>\n      <td>None</td>\n      <td>TSLA</td>\n      <td>2025</td>\n      <td>1</td>\n    </tr>\n    <tr>\n      <th>...</th>\n      <td>...</td>\n      <td>...</td>\n      <td>...</td>\n      <td>...</td>\n      <td>...</td>\n      <td>...</td>\n      <td>...</td>\n      <td>...</td>\n      <td>...</td>\n      <td>...</td>\n      <td>...</td>\n      <td>...</td>\n    </tr>\n    <tr>\n      <th>945</th>\n      <td>396.2475</td>\n      <td>396.2475</td>\n      <td>396.15</td>\n      <td>396.15</td>\n      <td>2387.0</td>\n      <td>396.2001</td>\n      <td>2025-01-15 00:55:00</td>\n      <td>76</td>\n      <td>None</td>\n      <td>TSLA</td>\n      <td>2025</td>\n      <td>1</td>\n    </tr>\n    <tr>\n      <th>946</th>\n      <td>396.1503</td>\n      <td>396.1900</td>\n      <td>396.12</td>\n      <td>396.18</td>\n      <td>4929.0</td>\n      <td>396.1572</td>\n      <td>2025-01-15 00:56:00</td>\n      <td>156</td>\n      <td>None</td>\n      <td>TSLA</td>\n      <td>2025</td>\n      <td>1</td>\n    </tr>\n    <tr>\n      <th>947</th>\n      <td>396.1500</td>\n      <td>396.1500</td>\n      <td>396.10</td>\n      <td>396.10</td>\n      <td>2689.0</td>\n      <td>396.1176</td>\n      <td>2025-01-15 00:57:00</td>\n      <td>98</td>\n      <td>None</td>\n      <td>TSLA</td>\n      <td>2025</td>\n      <td>1</td>\n    </tr>\n    <tr>\n      <th>948</th>\n      <td>396.1000</td>\n      <td>396.1000</td>\n      <td>396.01</td>\n      <td>396.08</td>\n      <td>6985.0</td>\n      <td>396.0595</td>\n      <td>2025-01-15 00:58:00</td>\n      <td>105</td>\n      <td>None</td>\n      <td>TSLA</td>\n      <td>2025</td>\n      <td>1</td>\n    </tr>\n    <tr>\n      <th>949</th>\n      <td>396.0785</td>\n      <td>396.1378</td>\n      <td>395.98</td>\n      <td>396.04</td>\n      <td>17372.0</td>\n      <td>396.0308</td>\n      <td>2025-01-15 00:59:00</td>\n      <td>266</td>\n      <td>None</td>\n      <td>TSLA</td>\n      <td>2025</td>\n      <td>1</td>\n    </tr>\n  </tbody>\n</table>\n<p>950 rows × 12 columns</p>\n</div>"
     },
     "execution_count": 1,
     "metadata": {},
     "output_type": "execute_result"
    }
   ],
   "source": [
    "import pandas as pd \n",
    "df = pd.read_parquet('s3://archived-stock-data/historical_ohlcv/ticker=TSLA/year=2025/month=01/day=14')\n",
    "df "
   ],
   "metadata": {
    "collapsed": false,
    "ExecuteTime": {
     "end_time": "2025-03-23T08:18:47.668241Z",
     "start_time": "2025-03-23T08:18:46.818532Z"
    }
   },
   "id": "efb8e3a342b0f19f",
   "execution_count": 1
  },
  {
   "cell_type": "code",
   "outputs": [
    {
     "ename": "TypeError",
     "evalue": "ContractsClient.list_options_contracts() got an unexpected keyword argument 'ticker'",
     "output_type": "error",
     "traceback": [
      "\u001B[31m---------------------------------------------------------------------------\u001B[39m",
      "\u001B[31mTypeError\u001B[39m                                 Traceback (most recent call last)",
      "\u001B[36mCell\u001B[39m\u001B[36m \u001B[39m\u001B[32mIn[18]\u001B[39m\u001B[32m, line 24\u001B[39m\n\u001B[32m     21\u001B[39m client = RESTClient(\u001B[33m\"\u001B[39m\u001B[33mok9x8dCfl_dne7p0gNRpB4ziLdQJjLC4\u001B[39m\u001B[33m\"\u001B[39m)\n\u001B[32m     23\u001B[39m contracts = []\n\u001B[32m---> \u001B[39m\u001B[32m24\u001B[39m \u001B[38;5;28;01mfor\u001B[39;00m c \u001B[38;5;129;01min\u001B[39;00m \u001B[43mclient\u001B[49m\u001B[43m.\u001B[49m\u001B[43mlist_options_contracts\u001B[49m\u001B[43m(\u001B[49m\n\u001B[32m     25\u001B[39m \u001B[43m\t\u001B[49m\u001B[43mticker\u001B[49m\u001B[43m \u001B[49m\u001B[43m=\u001B[49m\u001B[43m \u001B[49m\u001B[33;43m'\u001B[39;49m\u001B[33;43mCRWD\u001B[39;49m\u001B[33;43m'\u001B[39;49m\u001B[43m,\u001B[49m\n\u001B[32m     26\u001B[39m \u001B[43m\t\u001B[49m\u001B[43morder\u001B[49m\u001B[43m=\u001B[49m\u001B[33;43m\"\u001B[39;49m\u001B[33;43masc\u001B[39;49m\u001B[33;43m\"\u001B[39;49m\u001B[43m,\u001B[49m\n\u001B[32m     27\u001B[39m \u001B[43m\t\u001B[49m\u001B[43mlimit\u001B[49m\u001B[43m=\u001B[49m\u001B[32;43m10\u001B[39;49m\u001B[43m,\u001B[49m\n\u001B[32m     28\u001B[39m \u001B[43m\t\u001B[49m\u001B[43msort\u001B[49m\u001B[43m=\u001B[49m\u001B[33;43m\"\u001B[39;49m\u001B[33;43mticker\u001B[39;49m\u001B[33;43m\"\u001B[39;49m\u001B[43m,\u001B[49m\n\u001B[32m     29\u001B[39m \u001B[43m\t\u001B[49m\u001B[43m)\u001B[49m:\n\u001B[32m     30\u001B[39m     contracts.append(c)\n\u001B[32m     32\u001B[39m \u001B[38;5;28mprint\u001B[39m(contracts)\n",
      "\u001B[31mTypeError\u001B[39m: ContractsClient.list_options_contracts() got an unexpected keyword argument 'ticker'"
     ]
    }
   ],
   "source": [
    "import pandas as pd\n",
    "import boto3\n",
    "import io\n",
    "import logging\n",
    "import pandas as pd\n",
    "from datetime import datetime, timedelta\n",
    "from polygon import RESTClient\n",
    "from tqdm import tqdm\n",
    "import os\n",
    "from dotenv import load_dotenv\n",
    "\n",
    "\n",
    "load_dotenv()\n",
    "logger = logging.getLogger(__name__)\n",
    "\n",
    "API_KEY = os.getenv('POLYGON_API_KEY')\n",
    "client = RESTClient(API_KEY)\n",
    "\n",
    "from polygon import RESTClient\n",
    "\n",
    "client = RESTClient(\"ok9x8dCfl_dne7p0gNRpB4ziLdQJjLC4\")\n",
    "\n",
    "contracts = []\n",
    "for c in client.list_options_contracts(\n",
    "\tticker = 'CRWD',\n",
    "\torder=\"asc\",\n",
    "\tlimit=10,\n",
    "\tsort=\"ticker\",\n",
    "\t):\n",
    "    contracts.append(c)\n",
    "\n",
    "print(contracts)\n"
   ],
   "metadata": {
    "collapsed": false,
    "ExecuteTime": {
     "end_time": "2025-03-23T12:14:05.862303Z",
     "start_time": "2025-03-23T12:14:05.840833Z"
    }
   },
   "id": "cb5b4eadaf489c3a",
   "execution_count": 18
  },
  {
   "cell_type": "code",
   "outputs": [
    {
     "data": {
      "text/plain": "      active         cik composite_figi currency_name currency_symbol  \\\n6197    True  0001326380   BBG000BB5BF6           usd            None   \n\n     base_currency_symbol base_currency_name delisted_utc  \\\n6197                 None               None         None   \n\n          last_updated_utc locale  market                    name  \\\n6197  2025-03-21T00:00:00Z     us  stocks  GameStop Corp. Class A   \n\n     primary_exchange share_class_figi ticker type source_feed  \n6197             XNYS     BBG001S5RLR0    GME   CS        None  ",
      "text/html": "<div>\n<style scoped>\n    .dataframe tbody tr th:only-of-type {\n        vertical-align: middle;\n    }\n\n    .dataframe tbody tr th {\n        vertical-align: top;\n    }\n\n    .dataframe thead th {\n        text-align: right;\n    }\n</style>\n<table border=\"1\" class=\"dataframe\">\n  <thead>\n    <tr style=\"text-align: right;\">\n      <th></th>\n      <th>active</th>\n      <th>cik</th>\n      <th>composite_figi</th>\n      <th>currency_name</th>\n      <th>currency_symbol</th>\n      <th>base_currency_symbol</th>\n      <th>base_currency_name</th>\n      <th>delisted_utc</th>\n      <th>last_updated_utc</th>\n      <th>locale</th>\n      <th>market</th>\n      <th>name</th>\n      <th>primary_exchange</th>\n      <th>share_class_figi</th>\n      <th>ticker</th>\n      <th>type</th>\n      <th>source_feed</th>\n    </tr>\n  </thead>\n  <tbody>\n    <tr>\n      <th>6197</th>\n      <td>True</td>\n      <td>0001326380</td>\n      <td>BBG000BB5BF6</td>\n      <td>usd</td>\n      <td>None</td>\n      <td>None</td>\n      <td>None</td>\n      <td>None</td>\n      <td>2025-03-21T00:00:00Z</td>\n      <td>us</td>\n      <td>stocks</td>\n      <td>GameStop Corp. Class A</td>\n      <td>XNYS</td>\n      <td>BBG001S5RLR0</td>\n      <td>GME</td>\n      <td>CS</td>\n      <td>None</td>\n    </tr>\n  </tbody>\n</table>\n</div>"
     },
     "execution_count": 27,
     "metadata": {},
     "output_type": "execute_result"
    }
   ],
   "source": [
    "df = pd.read_parquet(f\"s3://{S3_BUCKET}/{TICKERS_PARQUET_KEY}\")\n",
    "df.query('ticker==\"GME\"')"
   ],
   "metadata": {
    "collapsed": false,
    "ExecuteTime": {
     "end_time": "2025-03-23T14:05:25.658962Z",
     "start_time": "2025-03-23T14:05:25.302889Z"
    }
   },
   "id": "effaf382f807f9fd",
   "execution_count": 27
  },
  {
   "cell_type": "code",
   "outputs": [
    {
     "ename": "KeyError",
     "evalue": "'timestamp'",
     "output_type": "error",
     "traceback": [
      "\u001B[31m---------------------------------------------------------------------------\u001B[39m",
      "\u001B[31mKeyError\u001B[39m                                  Traceback (most recent call last)",
      "\u001B[36mCell\u001B[39m\u001B[36m \u001B[39m\u001B[32mIn[26]\u001B[39m\u001B[32m, line 6\u001B[39m\n\u001B[32m      4\u001B[39m \tcandles.append(a)\n\u001B[32m      5\u001B[39m df2 = pd.DataFrame(candles)\n\u001B[32m----> \u001B[39m\u001B[32m6\u001B[39m df2[\u001B[33m'\u001B[39m\u001B[33mtimestamp\u001B[39m\u001B[33m'\u001B[39m] = pd.to_datetime(\u001B[43mdf2\u001B[49m\u001B[43m[\u001B[49m\u001B[33;43m'\u001B[39;49m\u001B[33;43mtimestamp\u001B[39;49m\u001B[33;43m'\u001B[39;49m\u001B[43m]\u001B[49m, unit=\u001B[33m'\u001B[39m\u001B[33mms\u001B[39m\u001B[33m'\u001B[39m)\n\u001B[32m      7\u001B[39m df2.sort_values(by=\u001B[33m'\u001B[39m\u001B[33mtimestamp\u001B[39m\u001B[33m'\u001B[39m,ascending=\u001B[38;5;28;01mTrue\u001B[39;00m)\n",
      "\u001B[36mFile \u001B[39m\u001B[32m~\\Documents\\data_pipelines_practice\\.venv\\Lib\\site-packages\\pandas\\core\\frame.py:4102\u001B[39m, in \u001B[36mDataFrame.__getitem__\u001B[39m\u001B[34m(self, key)\u001B[39m\n\u001B[32m   4100\u001B[39m \u001B[38;5;28;01mif\u001B[39;00m \u001B[38;5;28mself\u001B[39m.columns.nlevels > \u001B[32m1\u001B[39m:\n\u001B[32m   4101\u001B[39m     \u001B[38;5;28;01mreturn\u001B[39;00m \u001B[38;5;28mself\u001B[39m._getitem_multilevel(key)\n\u001B[32m-> \u001B[39m\u001B[32m4102\u001B[39m indexer = \u001B[38;5;28;43mself\u001B[39;49m\u001B[43m.\u001B[49m\u001B[43mcolumns\u001B[49m\u001B[43m.\u001B[49m\u001B[43mget_loc\u001B[49m\u001B[43m(\u001B[49m\u001B[43mkey\u001B[49m\u001B[43m)\u001B[49m\n\u001B[32m   4103\u001B[39m \u001B[38;5;28;01mif\u001B[39;00m is_integer(indexer):\n\u001B[32m   4104\u001B[39m     indexer = [indexer]\n",
      "\u001B[36mFile \u001B[39m\u001B[32m~\\Documents\\data_pipelines_practice\\.venv\\Lib\\site-packages\\pandas\\core\\indexes\\range.py:417\u001B[39m, in \u001B[36mRangeIndex.get_loc\u001B[39m\u001B[34m(self, key)\u001B[39m\n\u001B[32m    415\u001B[39m         \u001B[38;5;28;01mraise\u001B[39;00m \u001B[38;5;167;01mKeyError\u001B[39;00m(key) \u001B[38;5;28;01mfrom\u001B[39;00m\u001B[38;5;250m \u001B[39m\u001B[34;01merr\u001B[39;00m\n\u001B[32m    416\u001B[39m \u001B[38;5;28;01mif\u001B[39;00m \u001B[38;5;28misinstance\u001B[39m(key, Hashable):\n\u001B[32m--> \u001B[39m\u001B[32m417\u001B[39m     \u001B[38;5;28;01mraise\u001B[39;00m \u001B[38;5;167;01mKeyError\u001B[39;00m(key)\n\u001B[32m    418\u001B[39m \u001B[38;5;28mself\u001B[39m._check_indexing_error(key)\n\u001B[32m    419\u001B[39m \u001B[38;5;28;01mraise\u001B[39;00m \u001B[38;5;167;01mKeyError\u001B[39;00m(key)\n",
      "\u001B[31mKeyError\u001B[39m: 'timestamp'"
     ]
    }
   ],
   "source": [
    "ticker= 'TTAN'\n",
    "candles = []\n",
    "for a in client.list_aggs(ticker=ticker, multiplier=1, timespan='minute', from_='2023-01-29', to='2023-12-30', limit=50000):\n",
    "\tcandles.append(a)\n",
    "df2 = pd.DataFrame(candles)\n",
    "df2['timestamp'] = pd.to_datetime(df2['timestamp'], unit='ms')\n",
    "df2.sort_values(by='timestamp',ascending=True)"
   ],
   "metadata": {
    "collapsed": false,
    "ExecuteTime": {
     "end_time": "2025-03-23T13:02:46.372235Z",
     "start_time": "2025-03-23T13:02:45.957505Z"
    }
   },
   "id": "9dab30d68f9b7034",
   "execution_count": 26
  }
 ],
 "metadata": {
  "kernelspec": {
   "display_name": "Python 3",
   "language": "python",
   "name": "python3"
  },
  "language_info": {
   "codemirror_mode": {
    "name": "ipython",
    "version": 2
   },
   "file_extension": ".py",
   "mimetype": "text/x-python",
   "name": "python",
   "nbconvert_exporter": "python",
   "pygments_lexer": "ipython2",
   "version": "2.7.6"
  }
 },
 "nbformat": 4,
 "nbformat_minor": 5
}
